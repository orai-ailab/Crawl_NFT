{
 "cells": [
  {
   "cell_type": "code",
   "execution_count": 3,
   "metadata": {},
   "outputs": [
    {
     "name": "stdout",
     "output_type": "stream",
     "text": [
      "\u0000\u0000\u0000\u0000\u0000\u0000\u0000\u0000\u0000\u0000\u0000\u0000\u0000\u0000\u0000\u0000\u0000\u0000\u0000\u0000\u0000\u0000\u0000\u0000\u0000\u0000\u0000\u0000\u0000\u0000\u0000 \u0000\u0000\u0000\u0000\u0000\u0000\u0000\u0000\u0000\u0000\u0000\u0000\u0000\u0000\u0000\u0000\u0000\u0000\u0000\u0000\u0000\u0000\u0000\u0000\u0000\u0000\u0000\u0000\u0000\u0000\u0000:ipfs://QmaLbifbepMjtigQ6eGDcmYpMph3fFuKSxopcttn4VERDw/4048\u0000\u0000\u0000\u0000\u0000\u0000\n"
     ]
    }
   ],
   "source": [
    "import requests\n",
    "import json\n",
    "\n",
    "# Thay thế bằng API key của bạn\n",
    "api_key = \"JXD99FRVCF2VDVA1IK5T2EIMPUKN7MHGGZ\"\n",
    "\n",
    "# Địa chỉ hợp đồng NFT\n",
    "contract_address = \"0xe433e90c5b898819544346e73a501d9e8013dbd8\"\n",
    "\n",
    "# Địa chỉ token của NFT\n",
    "token_address = \"0xe433e90c5b898819544346e73a501d9e8013dbd8\"\n",
    "\n",
    "# Mã hexa của hàm tokenURI()\n",
    "function_signature = \"0xc87b56dd\"\n",
    "\n",
    "# Mã số token của NFT\n",
    "token_id = 4048\n",
    "\n",
    "# Tạo URL API để gọi hàm tokenURI()\n",
    "url = f\"https://api.etherscan.io/api?module=proxy&action=eth_call&to={contract_address}&data={function_signature}{token_id:0>64x}&apikey={api_key}\"\n",
    "\n",
    "# Gửi yêu cầu API\n",
    "response = requests.get(url)\n",
    "\n",
    "# Chuyển đổi giá trị hexa trả về thành chuỗi ASCII\n",
    "uri_hex = response.json()[\"result\"]\n",
    "uri = bytearray.fromhex(uri_hex[2:]).decode()\n",
    "\n",
    "print(uri)\n"
   ]
  },
  {
   "cell_type": "code",
   "execution_count": null,
   "metadata": {},
   "outputs": [],
   "source": []
  }
 ],
 "metadata": {
  "kernelspec": {
   "display_name": "base",
   "language": "python",
   "name": "python3"
  },
  "language_info": {
   "codemirror_mode": {
    "name": "ipython",
    "version": 3
   },
   "file_extension": ".py",
   "mimetype": "text/x-python",
   "name": "python",
   "nbconvert_exporter": "python",
   "pygments_lexer": "ipython3",
   "version": "3.9.13"
  },
  "orig_nbformat": 4
 },
 "nbformat": 4,
 "nbformat_minor": 2
}
