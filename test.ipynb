{
 "cells": [
  {
   "cell_type": "code",
   "execution_count": 12,
   "metadata": {},
   "outputs": [
    {
     "data": {
      "text/plain": [
       "True"
      ]
     },
     "execution_count": 12,
     "metadata": {},
     "output_type": "execute_result"
    }
   ],
   "source": [
    "from dotenv import load_dotenv\n",
    "import os\n",
    "load_dotenv()"
   ]
  },
  {
   "cell_type": "code",
   "execution_count": 66,
   "metadata": {},
   "outputs": [],
   "source": [
    "import requests\n",
    "import json\n",
    "\n",
    "# Replace with your own API key\n",
    "API_KEY_ETHERSCAN = os.getenv('API_KEY_ETHERSCAN')\n",
    "\n",
    "urlAPI = 'https://api.etherscan.io/api'\n",
    "params = {\n",
    "        \"module\" : \"logs\",\n",
    "        \"action\" : \"getLogs\",\n",
    "        \"fromBlock\" : 0,\n",
    "        \"toBlock\" :10000,\n",
    "        \"topic0\" : \"0xddf252ad1be2c89b69c2b068fc378daa952ba7f163c4a11628f55a4df523b3ef\",\n",
    "        \"topic0_1_opr\" : \"and\",\n",
    "        \"topic1\" : \"0x0000000000000000000000000000000000000000000000000000000000000000\",\n",
    "        \"page\" : 1,\n",
    "        \"offset\" : 10000,\n",
    "        \"apikey\" : API_KEY_ETHERSCAN\n",
    "}\n",
    "result = requests.get(url=urlAPI,params=params)"
   ]
  },
  {
   "cell_type": "code",
   "execution_count": 67,
   "metadata": {},
   "outputs": [],
   "source": [
    "for i in result.json()['result']:\n",
    "    print(i['transactionHash'])"
   ]
  },
  {
   "cell_type": "code",
   "execution_count": 68,
   "metadata": {},
   "outputs": [
    {
     "data": {
      "text/plain": [
       "{'status': '0', 'message': 'No records found', 'result': []}"
      ]
     },
     "execution_count": 68,
     "metadata": {},
     "output_type": "execute_result"
    }
   ],
   "source": [
    "result.json()"
   ]
  },
  {
   "cell_type": "code",
   "execution_count": null,
   "metadata": {},
   "outputs": [],
   "source": []
  }
 ],
 "metadata": {
  "kernelspec": {
   "display_name": "crawl_nft",
   "language": "python",
   "name": "python3"
  },
  "language_info": {
   "codemirror_mode": {
    "name": "ipython",
    "version": 3
   },
   "file_extension": ".py",
   "mimetype": "text/x-python",
   "name": "python",
   "nbconvert_exporter": "python",
   "pygments_lexer": "ipython3",
   "version": "3.9.16"
  },
  "orig_nbformat": 4,
  "vscode": {
   "interpreter": {
    "hash": "62a250edf8f38e917ee03ab2e905f8b23aa6b1ba65e6ca0972320e389c0dae41"
   }
  }
 },
 "nbformat": 4,
 "nbformat_minor": 2
}
