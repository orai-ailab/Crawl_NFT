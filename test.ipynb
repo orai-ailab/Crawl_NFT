{
 "cells": [
  {
   "cell_type": "code",
   "execution_count": 35,
   "metadata": {},
   "outputs": [],
   "source": [
    "import requests\n",
    "#headers = {'user-agent': 'Mozilla/5.0 (Macintosh; Intel Mac OS X 10_15_7) AppleWebKit/537.36 (KHTML, like Gecko) Chrome/110.0.0.0 Safari/537.36'}"
   ]
  },
  {
   "cell_type": "code",
   "execution_count": 76,
   "metadata": {},
   "outputs": [],
   "source": [
    "import requests\n",
    "def getMetadata(contract_address,token_id,transactionHash,blockNumber,netwwork):\n",
    "    url = 'https://api.opensea.io/asset/'+contract_address+'/'+str(token_id)+'?format=json'\n",
    "    res = requests.get(url)\n",
    "    if res.status_code == 200:\n",
    "        result = res.json()\n",
    "        return {\n",
    "            'contract': contract_address,\n",
    "            'blockNumber': blockNumber,\n",
    "            'transactionHash': transactionHash,\n",
    "            'tokenId': token_id,\n",
    "            'authorAddress': result['creator']['address'],\n",
    "            'uri': result['token_metadata'],\n",
    "            'name': result['name'],\n",
    "            'description': result['description'],\n",
    "            'image': result['image_original_url'],\n",
    "            'tags': [doc.get(\"value\") for doc in result['traits'] if doc.get(\"trait_type\") == \"tag\"],\n",
    "            'market': \"https://opensea.io/assets/\"+contract_address+\"/\"+str(token_id),\n",
    "            'network': netwwork\n",
    "        }\n",
    "    \n",
    "\n",
    "    "
   ]
  },
  {
   "cell_type": "code",
   "execution_count": null,
   "metadata": {},
   "outputs": [],
   "source": [
    " "
   ]
  },
  {
   "cell_type": "code",
   "execution_count": 77,
   "metadata": {},
   "outputs": [
    {
     "data": {
      "text/plain": [
       "{'contract': '0xfbeef911dc5821886e1dda71586d90ed28174b7d',\n",
       " 'blockNumber': 'block',\n",
       " 'transactionHash': 'tran',\n",
       " 'tokenId': 10702,\n",
       " 'authorAddress': {'username': 'oficinastk'},\n",
       " 'uri': 'https://ipfs.infura.io/ipfs/QmcCdppXXyQ4UboiUzse7iV5muMMRFmNrNZ9WVT1QYkW9B',\n",
       " 'name': 'Cells',\n",
       " 'description': 'Creative Challenge  - 0xCert Collaboration',\n",
       " 'image': 'https://ipfs.infura.io/ipfs/Qmb5oFEmSJRFBZaiRZxgMqWwiPkqHL4ARq2v1XBgfnawvF/image',\n",
       " 'tags': [],\n",
       " 'market': 'https://opensea.io/assets/0xfbeef911dc5821886e1dda71586d90ed28174b7d/10702',\n",
       " 'network': 'ethereum'}"
      ]
     },
     "execution_count": 77,
     "metadata": {},
     "output_type": "execute_result"
    }
   ],
   "source": [
    "t = getMetadata('0xfbeef911dc5821886e1dda71586d90ed28174b7d',10702,'tran','block','ethereum')\n",
    "t"
   ]
  },
  {
   "cell_type": "code",
   "execution_count": null,
   "metadata": {},
   "outputs": [],
   "source": []
  }
 ],
 "metadata": {
  "kernelspec": {
   "display_name": "base",
   "language": "python",
   "name": "python3"
  },
  "language_info": {
   "codemirror_mode": {
    "name": "ipython",
    "version": 3
   },
   "file_extension": ".py",
   "mimetype": "text/x-python",
   "name": "python",
   "nbconvert_exporter": "python",
   "pygments_lexer": "ipython3",
   "version": "3.9.13"
  },
  "orig_nbformat": 4,
  "vscode": {
   "interpreter": {
    "hash": "717eb3bd5c73e0b99903ea1a047f82b2d42f0f7a3e4e3011253489e848f06f6e"
   }
  }
 },
 "nbformat": 4,
 "nbformat_minor": 2
}
