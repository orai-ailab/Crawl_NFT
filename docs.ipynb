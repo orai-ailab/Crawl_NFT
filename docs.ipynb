{
 "cells": [
  {
   "cell_type": "code",
   "execution_count": 2,
   "metadata": {},
   "outputs": [
    {
     "data": {
      "text/plain": [
       "True"
      ]
     },
     "execution_count": 2,
     "metadata": {},
     "output_type": "execute_result"
    }
   ],
   "source": [
    "from dotenv import load_dotenv\n",
    "import os\n",
    "load_dotenv()"
   ]
  },
  {
   "cell_type": "code",
   "execution_count": 3,
   "metadata": {},
   "outputs": [
    {
     "ename": "TypeError",
     "evalue": "string indices must be integers",
     "output_type": "error",
     "traceback": [
      "\u001b[0;31m---------------------------------------------------------------------------\u001b[0m",
      "\u001b[0;31mTypeError\u001b[0m                                 Traceback (most recent call last)",
      "Cell \u001b[0;32mIn[3], line 31\u001b[0m\n\u001b[1;32m     28\u001b[0m \u001b[39m# Lặp qua các giao dịch và lọc ra các giao dịch NFT\u001b[39;00m\n\u001b[1;32m     29\u001b[0m \u001b[39mfor\u001b[39;00m tx \u001b[39min\u001b[39;00m txs:\n\u001b[1;32m     30\u001b[0m     \u001b[39m# Kiểm tra nếu giao dịch có chứa thông tin về NFT\u001b[39;00m\n\u001b[0;32m---> 31\u001b[0m     \u001b[39mif\u001b[39;00m tx[\u001b[39m'\u001b[39;49m\u001b[39minput\u001b[39;49m\u001b[39m'\u001b[39;49m]\u001b[39m.\u001b[39mstartswith(\u001b[39m'\u001b[39m\u001b[39m0xa0...\u001b[39m\u001b[39m'\u001b[39m):\n\u001b[1;32m     32\u001b[0m         \u001b[39m# Lấy thông tin về NFT\u001b[39;00m\n\u001b[1;32m     33\u001b[0m         contract_address \u001b[39m=\u001b[39m tx[\u001b[39m'\u001b[39m\u001b[39mto\u001b[39m\u001b[39m'\u001b[39m]\n\u001b[1;32m     34\u001b[0m         token_id \u001b[39m=\u001b[39m Web3\u001b[39m.\u001b[39mtoInt(hexstr\u001b[39m=\u001b[39mtx[\u001b[39m'\u001b[39m\u001b[39minput\u001b[39m\u001b[39m'\u001b[39m][\u001b[39m74\u001b[39m:\u001b[39m138\u001b[39m])\n",
      "\u001b[0;31mTypeError\u001b[0m: string indices must be integers"
     ]
    }
   ],
   "source": [
    "\"\"\"Để crawl thông tin về các giao dịch NFT trên blockchain Ethereum từ block này đến block khác qua API của Etherscan bằng Python, bạn có thể sử dụng thư viện web3.py và requests.\n",
    "\n",
    "Trước tiên, bạn cần tạo một API key từ Etherscan bằng cách đăng ký tài khoản trên trang web của họ và tạo một API key. Sau đó, bạn có thể sử dụng API key này để truy vấn dữ liệu từ Etherscan API.\n",
    "\n",
    "Sau khi có API key, bạn có thể bắt đầu viết code bằng Python để crawl NFT từ block này đến block khác qua API của Etherscan như sau:\"\"\"\n",
    "\n",
    "import requests\n",
    "from web3 import Web3\n",
    "\n",
    "# Khởi tạo một đối tượng Web3 và kết nối với mạng Ethereum\n",
    "w3 = Web3(Web3.HTTPProvider('https://mainnet.infura.io/v3/your-infura-project-id'))\n",
    "\n",
    "# Khai báo API key và đường dẫn đến API của Etherscan\n",
    "api_key = os.getenv('API_KEY_ETHERSCAN')\n",
    "etherscan_url = 'https://api.etherscan.io/api'\n",
    "\n",
    "# Khai báo block đầu và block cuối để crawl dữ liệu\n",
    "start_block = 10000000\n",
    "end_block = 10000010\n",
    "\n",
    "# Vòng lặp để crawl thông tin NFT từ block này đến block khác\n",
    "for block_number in range(start_block, end_block + 1):\n",
    "    # Truy vấn thông tin các giao dịch từ API của Etherscan\n",
    "    url = f'{etherscan_url}?module=account&action=txlist&startblock={block_number}&endblock={block_number}&sort=asc&apikey={api_key}'\n",
    "    response = requests.get(url)\n",
    "    txs = response.json()['result']\n",
    "\n",
    "    # Lặp qua các giao dịch và lọc ra các giao dịch NFT\n",
    "    for tx in txs:\n",
    "        # Kiểm tra nếu giao dịch có chứa thông tin về NFT\n",
    "        if tx['input'].startswith('0xa0...'):\n",
    "            # Lấy thông tin về NFT\n",
    "            contract_address = tx['to']\n",
    "            token_id = Web3.toInt(hexstr=tx['input'][74:138])\n",
    "            owner_address = tx['from']\n",
    "\n",
    "            # In ra thông tin về NFT\n",
    "            print(f'NFT with token ID {token_id} on contract {contract_address} was transferred from {owner_address} in block {block_number}.')\n",
    "\n",
    "\"\"\"Trong đoạn code trên, chúng ta sử dụng API của Etherscan để truy vấn thông tin các giao dịch trong các block từ start_block đến end_block. Sau đó, chúng ta lọc ra các giao dịch chứa thông tin về NFT bằng cách kiểm tra chuỗi đầu vào (input) của giao dịch. Nếu chuỗi đầu vào của giao dịch bắt đầu bằng mã hex của hàm chuyển NFT (0xa0...) thì chúng ta sẽ lấy thông tin về NFT từ các trường to, `\"\"\""
   ]
  },
  {
   "cell_type": "code",
   "execution_count": 8,
   "metadata": {},
   "outputs": [
    {
     "name": "stdout",
     "output_type": "stream",
     "text": [
      "Error! Missing address\n",
      "Error! Missing address\n",
      "Error! Missing address\n",
      "Error! Missing address\n",
      "Error! Missing address\n",
      "Error! Missing address\n",
      "Error! Missing address\n",
      "Error! Missing address\n",
      "Error! Missing address\n",
      "Error! Missing address\n",
      "Error! Missing address\n"
     ]
    }
   ],
   "source": [
    "import requests\n",
    "from web3 import Web3\n",
    "w3 = Web3(Web3.HTTPProvider('https://mainnet.infura.io/v3/6bd5e32b0adb404286c0e6e9779740e2'))\n",
    "\n",
    "# Khai báo API key và đường dẫn đến API của Etherscan\n",
    "api_key = os.getenv('API_KEY_ETHERSCAN')\n",
    "etherscan_url = 'https://api.etherscan.io/api'\n",
    "\n",
    "# Khai báo block đầu và block cuối để crawl dữ liệu\n",
    "start_block = 50000000\n",
    "end_block = 50000010\n",
    "\n",
    "# Vòng lặp để crawl thông tin NFT từ block này đến block khác\n",
    "for block_number in range(start_block, end_block + 1):\n",
    "    # Truy vấn thông tin các giao dịch từ API của Etherscan\n",
    "    url = f'{etherscan_url}?module=account&action=txlist&startblock={block_number}&endblock={block_number}&sort=asc&apikey={api_key}'\n",
    "    response = requests.get(url)\n",
    "    txs = response.json()['result']\n",
    "    print(txs)"
   ]
  },
  {
   "cell_type": "code",
   "execution_count": null,
   "metadata": {},
   "outputs": [],
   "source": []
  }
 ],
 "metadata": {
  "kernelspec": {
   "display_name": "crawl_nft",
   "language": "python",
   "name": "python3"
  },
  "language_info": {
   "codemirror_mode": {
    "name": "ipython",
    "version": 3
   },
   "file_extension": ".py",
   "mimetype": "text/x-python",
   "name": "python",
   "nbconvert_exporter": "python",
   "pygments_lexer": "ipython3",
   "version": "3.9.16"
  },
  "orig_nbformat": 4,
  "vscode": {
   "interpreter": {
    "hash": "62a250edf8f38e917ee03ab2e905f8b23aa6b1ba65e6ca0972320e389c0dae41"
   }
  }
 },
 "nbformat": 4,
 "nbformat_minor": 2
}
